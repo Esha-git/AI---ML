{
 "cells": [
  {
   "cell_type": "markdown",
   "metadata": {},
   "source": [
    "Pivot Tables & Advanced Aggregations<br>\n",
    "Objective: Utilize pivot tables for complex aggregation tasks."
   ]
  },
  {
   "cell_type": "markdown",
   "metadata": {},
   "source": [
    "Task 1: Creating a Basic Pivot Table<br>\n",
    "Task: Create a pivot table that shows the total sales for each 'category' across 'years'.<br>\n",
    "Steps:<br>\n",
    "19. Use pandas pivot_table() function.<br>\n",
    "20. Set index='year' and columns='category' .<br>\n",
    "21. Define the value parameter as 'sales' and aggregation function as np.sum ."
   ]
  },
  {
   "cell_type": "code",
   "execution_count": 1,
   "metadata": {},
   "outputs": [
    {
     "name": "stdout",
     "output_type": "stream",
     "text": [
      "category      A      B      C      D      E\n",
      "year                                       \n",
      "2010      100.0    NaN    NaN    NaN    NaN\n",
      "2011        NaN  150.0    NaN    NaN    NaN\n",
      "2012        NaN    NaN  200.0    NaN    NaN\n",
      "2013        NaN    NaN    NaN  250.0    NaN\n",
      "2014        NaN    NaN    NaN    NaN  300.0\n"
     ]
    }
   ],
   "source": [
    "# Write your code from here\n",
    "import pandas as pd\n",
    "data ={\n",
    "    'year': [2010, 2011, 2012, 2013, 2014],\n",
    "    'category': ['A', 'B', 'C', 'D', 'E'],\n",
    "    'sales': [100, 150, 200, 250, 300]\n",
    "}\n",
    "df = pd.DataFrame(data)\n",
    "pivot_table = pd.pivot_table(df,index='year', columns='category', values='sales',aggfunc='sum')\n",
    "print(pivot_table)"
   ]
  },
  {
   "cell_type": "markdown",
   "metadata": {},
   "source": [
    "Task 2: Pivot Table with Multiple Aggregations<br>\n",
    "\n",
    "Task: Generate a pivot table with both mean and max of 'profit' for 'category' each month.<br>\n",
    "Steps:<br>\n",
    "22. Create a pivot table.<br>\n",
    "23. Use aggfunc=['mean', 'max'] .<br>\n",
    "24. Analyze the pivot table output."
   ]
  },
  {
   "cell_type": "code",
   "execution_count": 2,
   "metadata": {},
   "outputs": [
    {
     "name": "stdout",
     "output_type": "stream",
     "text": [
      "            mean                                     max                  \\\n",
      "category       A       B       C       D       E       A       B       C   \n",
      "month                                                                      \n",
      "Apr          NaN     NaN     NaN  2500.0     NaN     NaN     NaN     NaN   \n",
      "Feb          NaN  1500.0     NaN     NaN     NaN     NaN  1500.0     NaN   \n",
      "Jan       1000.0     NaN     NaN     NaN     NaN  1000.0     NaN     NaN   \n",
      "Mar          NaN     NaN  2000.0     NaN     NaN     NaN     NaN  2000.0   \n",
      "May          NaN     NaN     NaN     NaN  3000.0     NaN     NaN     NaN   \n",
      "\n",
      "                          \n",
      "category       D       E  \n",
      "month                     \n",
      "Apr       2500.0     NaN  \n",
      "Feb          NaN     NaN  \n",
      "Jan          NaN     NaN  \n",
      "Mar          NaN     NaN  \n",
      "May          NaN  3000.0  \n"
     ]
    }
   ],
   "source": [
    "# Write your code from here\n",
    "import pandas as pd\n",
    "data={\n",
    "    'month': ['Jan', 'Feb', 'Mar', 'Apr', 'May'],\n",
    "    'category': ['A', 'B', 'C', 'D', 'E'],\n",
    "    'profit': [1000, 1500, 2000, 2500, 3000]\n",
    "}\n",
    "df = pd.DataFrame(data)\n",
    "pivot_table = pd.pivot_table(df,index='month', columns='category', values='profit',aggfunc=['mean','max'])\n",
    "print(pivot_table)"
   ]
  },
  {
   "cell_type": "markdown",
   "metadata": {},
   "source": [
    "Task 3: Advanced Pivot Table with Margins<br>\n",
    "\n",
    "Task: Create a pivot table that includes subtotals for each 'region' and 'category'.<br>\n",
    "Steps:<br>\n",
    "25. Use pivot_table() with margins=True .<br>\n",
    "26. Set the index and columns appropriately.<br>\n",
    "27. Validate subtotal correctness by summing manually."
   ]
  },
  {
   "cell_type": "code",
   "execution_count": 3,
   "metadata": {},
   "outputs": [
    {
     "name": "stdout",
     "output_type": "stream",
     "text": [
      "category      A      B      C      D  All\n",
      "region                                   \n",
      "East        NaN    NaN  200.0    NaN  200\n",
      "North     100.0    NaN    NaN    NaN  100\n",
      "South       NaN  150.0    NaN    NaN  150\n",
      "West        NaN    NaN    NaN  250.0  250\n",
      "All       100.0  150.0  200.0  250.0  700\n"
     ]
    }
   ],
   "source": [
    "# Write your code from here\n",
    "import pandas as pd\n",
    "data={\n",
    "    'region': ['North', 'South', 'East', 'West'],\n",
    "    'category': ['A', 'B', 'C', 'D'],\n",
    "    'sales': [100, 150, 200, 250]\n",
    "}\n",
    "df = pd.DataFrame(data)\n",
    "pivot_table = pd.pivot_table(df,index='region', columns='category', values='sales',aggfunc='sum',margins=True)\n",
    "print(pivot_table)"
   ]
  }
 ],
 "metadata": {
  "kernelspec": {
   "display_name": "Python 3",
   "language": "python",
   "name": "python3"
  },
  "language_info": {
   "codemirror_mode": {
    "name": "ipython",
    "version": 3
   },
   "file_extension": ".py",
   "mimetype": "text/x-python",
   "name": "python",
   "nbconvert_exporter": "python",
   "pygments_lexer": "ipython3",
   "version": "3.10.12"
  }
 },
 "nbformat": 4,
 "nbformat_minor": 2
}

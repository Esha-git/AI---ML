{
 "cells": [
  {
   "cell_type": "markdown",
   "metadata": {},
   "source": [
    "Title: Hands-on: Real-World Data Aggregation<br>\n",
    "Objective: Apply learned concepts to real-world data scenarios"
   ]
  },
  {
   "cell_type": "markdown",
   "metadata": {},
   "source": [
    "Task 1: Analyzing Sales by Region<br>\n",
    "\n",
    "Task: Use a real-world sales dataset to calculate yearly sales trends by region.<br>\n",
    " Steps:<br>\n",
    " 28. Acquire a dataset containing columns such as 'date', 'region', and 'sales'.<br>\n",
    " 29. Extract the year from the 'date' column.<br>\n",
    " 30. Group by 'year' and 'region' to apply the sum aggregation on 'sales'"
   ]
  },
  {
   "cell_type": "code",
   "execution_count": 3,
   "metadata": {},
   "outputs": [
    {
     "name": "stdout",
     "output_type": "stream",
     "text": [
      "   year  sales\n",
      "0  2023    450\n"
     ]
    }
   ],
   "source": [
    "# Write your code from here\n",
    "import pandas as pd\n",
    "data={\n",
    "    'date': ['2023-01-01', '2023-01-02', '2023-01-03'],\n",
    "    'region': ['North', 'South', 'East'],\n",
    "    'sales': [100, 200, 150]\n",
    "}\n",
    "df = pd.DataFrame(data)\n",
    "df['date'] = pd.to_datetime(df['date'])\n",
    "df['year'] = df['date'].dt.year\n",
    "yearly_sales = df.groupby('year')['sales'].sum().reset_index()\n",
    "print(yearly_sales)             "
   ]
  },
  {
   "cell_type": "markdown",
   "metadata": {},
   "source": [
    "Task 2: Customer Purchase Patterns<br>\n",
    "\n",
    "Task: Find the top 5 customers by the total amount spent using a purchases dataset.<br>\n",
    " Steps:<br>\n",
    " 31. Load a dataset with 'customer_id' and 'amount_spent'.<br>\n",
    " 32. Group by 'customer_id'.<br>\n",
    " 33. Use .sum() on 'amount_spent' and sort values"
   ]
  },
  {
   "cell_type": "code",
   "execution_count": 4,
   "metadata": {},
   "outputs": [
    {
     "name": "stdout",
     "output_type": "stream",
     "text": [
      "customer_id\n",
      "102    500\n",
      "104    400\n",
      "103    300\n",
      "101    200\n",
      "Name: amount_spent, dtype: int64\n"
     ]
    }
   ],
   "source": [
    "# Write your code from here\n",
    "import pandas as pd\n",
    "data={\n",
    "    'customer_id':[101,102,103,104,102,102],\n",
    "    'amount_spent':[200,150,300,400,150,200]\n",
    "}\n",
    "df = pd.DataFrame(data)\n",
    "customer_data = df.groupby('customer_id')['amount_spent'].sum()\n",
    "top_customers = customer_data.sort_values(ascending=False).head(5)\n",
    "print(top_customers)"
   ]
  },
  {
   "cell_type": "markdown",
   "metadata": {},
   "source": [
    " Task 3: Seasonality Analysis<br>\n",
    "\n",
    " Task: Determine which months have the highest and lowest sales for a retail dataset.<br>\n",
    " Steps:<br>\n",
    " 34. Use a dataset with 'transaction_date' and 'sales'.<br>\n",
    " 35. Extract the month from 'transaction_date'.<br>\n",
    " 36. Group by 'month' and sum 'sales', then sort to find extremes"
   ]
  },
  {
   "cell_type": "code",
   "execution_count": 5,
   "metadata": {},
   "outputs": [
    {
     "name": "stdout",
     "output_type": "stream",
     "text": [
      "month\n",
      "1    450\n",
      "Name: sales, dtype: int64\n",
      "Highest month: 1, Lowest month: 1\n"
     ]
    }
   ],
   "source": [
    "# Write your code from here\n",
    "import pandas as pd\n",
    "data={\n",
    "    'transaction_date':['2023-01-01','2023-01-02','2023-01-03'],\n",
    "    'sales':[100,200,150]\n",
    "}\n",
    "df = pd.DataFrame(data)\n",
    "df['transaction_date'] = pd.to_datetime(df['transaction_date'])\n",
    "df['month'] = df['transaction_date'].dt.month\n",
    "monthly_sales = df.groupby('month')['sales'].sum()\n",
    "sorted_sales= monthly_sales.sort_values(ascending=False)\n",
    "print(sorted_sales)\n",
    "highest_month = sorted_sales.index[0]\n",
    "lowest_month = sorted_sales.index[-1]\n",
    "print(f\"Highest month: {highest_month}, Lowest month: {lowest_month}\")"
   ]
  }
 ],
 "metadata": {
  "kernelspec": {
   "display_name": "Python 3",
   "language": "python",
   "name": "python3"
  },
  "language_info": {
   "codemirror_mode": {
    "name": "ipython",
    "version": 3
   },
   "file_extension": ".py",
   "mimetype": "text/x-python",
   "name": "python",
   "nbconvert_exporter": "python",
   "pygments_lexer": "ipython3",
   "version": "3.10.12"
  }
 },
 "nbformat": 4,
 "nbformat_minor": 2
}

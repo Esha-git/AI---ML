{
 "cells": [
  {
   "cell_type": "markdown",
   "metadata": {},
   "source": [
    "Title: Grouping & Aggregating Data using Pandas<br>\n",
    "Objective: Learn how to group data and perform aggregations on these groups."
   ]
  },
  {
   "cell_type": "markdown",
   "metadata": {},
   "source": [
    "Task 1: Grouping by a Single Column<br>\n",
    "\n",
    "Task: Group the dataset by 'region' and calculate total sales per region.<br>\n",
    "Steps:<br>\n",
    "10. Load the dataset.<br>\n",
    "11. Use groupby('region') on the DataFrame.<br>\n",
    "12. Apply .sum() to the 'sales' column."
   ]
  },
  {
   "cell_type": "code",
   "execution_count": 1,
   "metadata": {},
   "outputs": [
    {
     "name": "stdout",
     "output_type": "stream",
     "text": [
      "Total sales per region:\n",
      "region\n",
      "East     150\n",
      "North    350\n",
      "South    600\n",
      "West     300\n",
      "Name: sales, dtype: int64\n"
     ]
    }
   ],
   "source": [
    "# Write your code from here\n",
    "import pandas as pd\n",
    "data={\n",
    "    'region': ['North', 'South', 'East', 'West', 'North', 'South'],\n",
    "    'sales': [100, 200, 150, 300, 250, 400],\n",
    "    'quantity': [10, 20, 15, 30, 25, 40]\n",
    "}\n",
    "df = pd.DataFrame(data)\n",
    "sales_by_region = df.groupby('region')['sales'].sum()\n",
    "print(\"Total sales per region:\")\n",
    "print(sales_by_region)"
   ]
  },
  {
   "cell_type": "markdown",
   "metadata": {},
   "source": [
    "Task 2: Grouping by Multiple Columns<br>\n",
    "\n",
    "Task: Group the dataset by 'region' and 'category', then find the average sales.<br>\n",
    "Steps:<br>\n",
    "13. Group by ['region', 'category'].<br>\n",
    "14. Use .mean() on the 'sales' column.<br>\n",
    "15. Examine the resulting DataFrame structure."
   ]
  },
  {
   "cell_type": "code",
   "execution_count": 2,
   "metadata": {},
   "outputs": [
    {
     "name": "stdout",
     "output_type": "stream",
     "text": [
      "Average sales per region and category:\n",
      "region  category\n",
      "East    A           150.0\n",
      "North   A           175.0\n",
      "South   B           300.0\n",
      "West    B           300.0\n",
      "Name: sales, dtype: float64\n",
      "Resulting DataFrame shape and index:\n",
      "  region category  sales\n",
      "0   East        A  150.0\n",
      "1  North        A  175.0\n",
      "2  South        B  300.0\n",
      "3   West        B  300.0\n"
     ]
    }
   ],
   "source": [
    "# Write your code from here\n",
    "import pandas as pd\n",
    "data ={\n",
    "    'region': ['North', 'South', 'East', 'West', 'North', 'South'],\n",
    "    'sales': [100, 200, 150, 300, 250, 400],\n",
    "    'category': ['A', 'B', 'A', 'B', 'A', 'B']\n",
    "}\n",
    "df = pd.DataFrame(data)\n",
    "avg_sales=df.groupby(['region','category'])['sales'].mean()\n",
    "print(\"Average sales per region and category:\") \n",
    "print(avg_sales)\n",
    "print(\"Resulting DataFrame shape and index:\")\n",
    "print(avg_sales.reset_index())"
   ]
  },
  {
   "cell_type": "markdown",
   "metadata": {},
   "source": [
    "Task 3: Aggregating Multiple Functions<br>\n",
    "\n",
    "Task: Group data by 'category' and apply multiple aggregation functions (sum and count) on 'quantity'.<br>\n",
    "Steps:<br>\n",
    "16. Group by 'category'.<br>\n",
    "17. Use .agg(['sum', 'count']) on 'quantity'.<br>\n",
    "18. Analyze the result to understand how multiple aggregations work."
   ]
  },
  {
   "cell_type": "code",
   "execution_count": 3,
   "metadata": {},
   "outputs": [
    {
     "name": "stdout",
     "output_type": "stream",
     "text": [
      "Sum and count of quantity per category:\n",
      "          sum  count\n",
      "category            \n",
      "A         500      3\n",
      "B         900      3\n"
     ]
    }
   ],
   "source": [
    "# Write your code from here\n",
    "import pandas as pd\n",
    "data = {\n",
    "    'region': ['North', 'South', 'East', 'West', 'North', 'South'],\n",
    "    'quantity': [100, 200, 150, 300, 250, 400],\n",
    "    'category': ['A', 'B', 'A', 'B', 'A', 'B']\n",
    "}\n",
    "df = pd.DataFrame(data)\n",
    "quantity_agg=df.groupby('category')['quantity'].agg(['sum','count'])\n",
    "print(\"Sum and count of quantity per category:\")\n",
    "print(quantity_agg)"
   ]
  }
 ],
 "metadata": {
  "kernelspec": {
   "display_name": "Python 3",
   "language": "python",
   "name": "python3"
  },
  "language_info": {
   "codemirror_mode": {
    "name": "ipython",
    "version": 3
   },
   "file_extension": ".py",
   "mimetype": "text/x-python",
   "name": "python",
   "nbconvert_exporter": "python",
   "pygments_lexer": "ipython3",
   "version": "3.10.12"
  }
 },
 "nbformat": 4,
 "nbformat_minor": 2
}

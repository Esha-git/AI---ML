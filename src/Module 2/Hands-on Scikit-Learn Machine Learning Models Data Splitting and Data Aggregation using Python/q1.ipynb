{
 "cells": [
  {
   "cell_type": "code",
   "execution_count": 8,
   "metadata": {},
   "outputs": [
    {
     "name": "stdout",
     "output_type": "stream",
     "text": [
      "Dataset shape: (10, 13)\n",
      "Columns: Index(['Time', 'V1', 'V2', 'V3', 'V4', 'V5', 'V6', 'V7', 'V8', 'V9', 'V10',\n",
      "       'Amount', 'Class'],\n",
      "      dtype='object')\n",
      "Class distribution:\n",
      " Class\n",
      "0    8\n",
      "1    2\n",
      "Name: count, dtype: int64\n",
      "\n",
      "ROC AUC score: 0.5000\n"
     ]
    }
   ],
   "source": [
    "# Question 1: Load & Explore the Credit Card Fraud Detection Dataset\n",
    "\n",
    "# Step 1: Load the dataset from a CSV (Assume you have a file named creditcard.csv ).\n",
    "# Step 2: Split the data.\n",
    "# Step 3: Train a Logistic Regression model.\n",
    "# Step 4: Evaluate using ROC AUC score.\n",
    "import pandas as pd\n",
    "from sklearn.model_selection import train_test_split\n",
    "from sklearn.linear_model import LogisticRegression\n",
    "from sklearn.metrics import roc_auc_score\n",
    "\n",
    "# Step 1: Load the dataset\n",
    "data = pd.read_csv('creditcard.csv')\n",
    "\n",
    "# Explore the dataset\n",
    "print(\"Dataset shape:\", data.shape)\n",
    "print(\"Columns:\", data.columns)\n",
    "print(\"Class distribution:\\n\", data['Class'].value_counts())\n",
    "\n",
    "# Step 2: Split the data into features and target\n",
    "X = data.drop('Class', axis=1)\n",
    "y = data['Class']\n",
    "\n",
    "# Train-test split (using stratify to handle imbalance)\n",
    "X_train, X_test, y_train, y_test = train_test_split(\n",
    "    X, y, test_size=0.3, random_state=42, stratify=y\n",
    ")\n",
    "\n",
    "# Step 3: Train Logistic Regression model\n",
    "model = LogisticRegression(max_iter=1000, random_state=42)\n",
    "model.fit(X_train, y_train)\n",
    "\n",
    "# Step 4: Evaluate using ROC AUC score\n",
    "y_pred_proba = model.predict_proba(X_test)[:, 1]\n",
    "roc_auc = roc_auc_score(y_test, y_pred_proba)\n",
    "\n",
    "print(f\"\\nROC AUC score: {roc_auc:.4f}\")\n",
    "\n",
    "\n"
   ]
  }
 ],
 "metadata": {
  "kernelspec": {
   "display_name": "Python 3",
   "language": "python",
   "name": "python3"
  },
  "language_info": {
   "codemirror_mode": {
    "name": "ipython",
    "version": 3
   },
   "file_extension": ".py",
   "mimetype": "text/x-python",
   "name": "python",
   "nbconvert_exporter": "python",
   "pygments_lexer": "ipython3",
   "version": "3.10.12"
  }
 },
 "nbformat": 4,
 "nbformat_minor": 2
}
